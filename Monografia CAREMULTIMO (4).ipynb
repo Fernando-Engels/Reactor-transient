{
 "cells": [
  {
   "cell_type": "code",
   "execution_count": 18,
   "metadata": {},
   "outputs": [],
   "source": [
    "import iapws.iapws97 as wp\n",
    "import pickle\n",
    "from iapws import IAPWS97\n",
    "import numpy as np\n",
    "from scipy.integrate import *\n",
    "import matplotlib.pyplot as plt\n",
    "%matplotlib qt5\n",
    "from dataclasses import dataclass\n",
    "from typing import List\n",
    "\n",
    "@dataclass\n",
    "class Q:\n",
    "    Estructuras: float\n",
    "    GV: float\n",
    "    Combustible: float\n",
    "    SECR: float\n",
    "    T_prim: float\n",
    "    t: float\n",
    "        \n",
    "@dataclass\n",
    "class Salida:\n",
    "    P_Primario: List[float]\n",
    "    T_Combustible: List[float]\n",
    "    Masa_GV: List[float]\n",
    "    T_Estructuras: List[float]\n",
    "    Masa_Interior_RPV: List[float]\n",
    "    Volumen_N2: List[float]\n",
    "    Volumen_liquido_interior_RPV: List[float]   \n",
    "    m_lok:List[float]\n",
    "    m_cie:List[float]\n",
    "    t:List[float]\n"
   ]
  },
  {
   "cell_type": "code",
   "execution_count": 19,
   "metadata": {},
   "outputs": [],
   "source": [
    "#definicion de constantes\n",
    "#primario\n",
    "P_0=12.25 #Mpa presion nominal del reactor\n",
    "T_0=IAPWS97(P=P_0,x=0.5).T\n",
    "Pot_gen= 100*1e6 #Wth potencia neta generada\n",
    "V_T=55.9 #m3 volumen neto total\n",
    "Vol_f_0=13.31 #m3 volumen de agua hasta tope de nucleo\n",
    "Vol_v_0=10 #m3volumen de vapor\n",
    "M_rpv=143000 #Kg masa total RPV\n",
    "M_int=53000 #Kg masa interinos\n",
    "m_estr = M_rpv + M_int\n",
    "mvap=770.334\n",
    "mliq=29688.12\n",
    "m_t=mvap+mliq\n",
    "#sie\n",
    "V_f_sie_0=50 #m3 volumen de agua SIE inicial\n",
    "M_f_sie_0=V_f_sie_0*1000 # masa en kilogramos de el sie , el 1000 es la densidad\n",
    "Vn2_0=19 #m3 volumen N2 inicial SIE de gas\n",
    "T_sie_0=318 #K centigrados temperatura inicial del sie\n",
    "K_sie=2.47e4 #SU factor de frccion de descarga \n",
    "Pn2_0=2 #MPa \n",
    "Dif_P_rot=0.5 #Mpa\n",
    "A_sie=4.53e-3 #m2 area por donde inyecta el sie \n",
    "K_loca=2.47e4\n",
    "\n",
    "#generador de vapor\n",
    "P_sec_0=4.7 #Mpa presion inicial secundario\n",
    "T_sec_0=IAPWS97(P=P_sec_0,x=0.5).T#K temperatura en el secuandario\n",
    "M_f_sec_0=600 #Kg masa de fluido en el secundadrio\n",
    "Ah_fg_gv_0=Pot_gen/(T_0-T_sec_0)#MW/K area liquida multiplicado por el h liquido a gas\n",
    "hfg_sec = IAPWS97(P=P_sec_0,x=0.5).Hvap*1000\n",
    "#combustibles\n",
    "R_pas=3.8 #mm radio pastilla\n",
    "R_int_vai=3.875 #mm radio interior de la vaina\n",
    "R_ext_vai=4.5 #mm radio externo de la vaina\n",
    "N_tot_barras=6583 #SU numero total de barras combustibles\n",
    "Long_z_act=1.4 #m longitud zona activa\n",
    "Cp_uo2=3e6 #j/(m3*K) capacidad calorifica UO2\n",
    "Cp_vai=2e6 #j/(m3*K) capacidad calorifica vaina\n",
    "m_cp_comb = 1.557375e6\n",
    "#secr\n",
    "P_secr_0=0.101325 #Mpa Presion en el secre, presion atmosferica\n",
    "T_secr_0=IAPWS97(P=P_secr_0,x=0.5).T#K temperatura secre\n",
    "ha_secr_0=2*1e6/(T_0-T_secr_0)#W/K area liquida multiplicado por el h liquido a gas\n",
    "\n",
    "T_estr_0=600 #K\n",
    "h_estr=1000 #w/kg\n",
    "A_estr=86\n",
    "cp_estr=500 #j/m3k\n",
    "ha_comb=366300.3663\n",
    "\n",
    "#Parametros loca\n",
    "P_cont=0.1\n",
    "#A_loca=1.14e-3\n",
    "Qmass_in_gv=0\n",
    "\n",
    "FLAG_LOCA=0\n",
    "FLAG_SIE=0\n",
    "FLAG_MASA_GEN_VAP = 0\n",
    "FLAG_SECR = 0\n",
    "FLAG_ESTR = 0"
   ]
  },
  {
   "cell_type": "code",
   "execution_count": 20,
   "metadata": {},
   "outputs": [],
   "source": [
    "def m_loca(P,K_loca,P_cont,FLAG_LOCA):\n",
    "    if(FLAG_LOCA == 0):\n",
    "        return 0\n",
    "    gas= wp.IAPWS97(P=P,x=0.5)\n",
    "    #if(P<1.8*P_cont):\n",
    "     #   m=A_loca*np.sqrt(2*gas.Vapor.rho*1e6*(P-P_cont)/K_loca)\n",
    "    #  #  return m\n",
    "    #if(P>=2*P_cont):\n",
    "    m=A_loca*np.sqrt(1.3*P*1e6*gas.Vapor.rho*(2/(1.3+1))**(7.6666))\n",
    "    return m\n",
    "    #m1=A_loca*np.sqrt(2*gas.Vapor.rho*1e6*(P-P_cont)/K_loca)\n",
    "    #m2=A_loca*np.sqrt(1.3*P*1e6*gas.Vapor.rho*(2/(1.3+1))**(7.6666))\n",
    "    #if(m1<m2):\n",
    "     #   return m1\n",
    "    #return m2\n",
    "                        \n",
    "    #d_LOCA = 1.5*2.54/100 # m (1.5 inch)\n",
    "    #A_LOCA = np.pi*(d_LOCA/2)**2 # m2 \n",
    "    #rhog = wp.IAPWS97(P=P,x=1).rho\n",
    "    #K_LOCA = 1.46 # Contracción y expansion abrupta (verificar!)\n",
    "    #K_bloq = 1.3\n",
    "    #exp_bloq = (K_bloq+1)/(K_bloq-1)\n",
    "\n",
    "    #mflow_Bloq   = A_LOCA*(K_bloq*P*rhog*(2/(K_bloq+1))**exp_bloq)**0.5\n",
    "    #mflow_noBloq = A_LOCA*(2*(P - P_cont)*rhog/K_LOCA)**0.5\n",
    "\n",
    "    #mflow_LOCA = min(mflow_noBloq, mflow_Bloq)\n",
    "    #return mflow_LOCA\n",
    "#def m_loca(P,K_loca,P_cont,FLAG_LOCA):\n",
    "#    if(FLAG_LOCA == 0):\n",
    "#        return 0\n",
    "#    gas= wp.IAPWS97(P=P,x=0.5) \n",
    "#    m1=A_loca*np.sqrt(gas.Vapor.rho*(P-P_cont)*1e6/K_loca)\n",
    "#    m2=A_loca*np.sqrt(1.3*P*1e6*gas.Vapor.rho*(2/(1.3+1))**(7.6666))\n",
    "#    if (m1 <= m2):\n",
    "#          return m1\n",
    "#    return m2\n",
    "   \n",
    "\n",
    "\n",
    "#def m_sie(Pn2,P,FLAG_SIE):\n",
    "#    if(FLAG_SIE==0):\n",
    "#        return 0\n",
    "#    m_sie=A_sie*((Pn2-P)*1e6*2*IAPWS97(T=T_sie_0,P=Pn2).rho*0.5)\n",
    "#    return m_sie\n",
    "\n",
    "def m_sie(Pn2,P,FLAG_SIE):\n",
    "    if(FLAG_SIE==0):\n",
    "        return 0\n",
    "    if(P<=0.1):\n",
    "            P=0.1\n",
    "    m_sie=A_sie*((Pn2-P)*1e6*2*wp.IAPWS97(T=T_sie_0,P=Pn2).rho/K_sie)**0.5\n",
    "    return m_sie\n",
    "\n",
    "\n",
    "def Busca_T(P):\n",
    "  #Para esta expresión, la presión debe estar en megapascales\n",
    "    if(P<=0.1):\n",
    "            P=0.1 \n",
    "    Tsat = wp._TSat_P(P)\n",
    "    return Tsat\n",
    "\n",
    "def AB(P_s):\n",
    "    if(P_s<=0.1):\n",
    "            P_s=0.1\n",
    "    a=wp.IAPWS97(P=P_s,x=0.5)\n",
    "    A=(a.Liquid.u*a.Liquid.rho*1000 - a.Vapor.u*a.Vapor.rho*1000)/(a.Liquid.rho - a.Vapor.rho)\n",
    "    B=(a.Vapor.u*1000-a.Liquid.u*1000)/(1/a.Vapor.rho - 1/a.Liquid.rho)    \n",
    "    return A,B\n",
    "\n",
    "def dAB(P_s,delta):\n",
    "    if(P_s<=0.1):\n",
    "            P_s=0.1\n",
    "    acum_1=AB(P_s+delta)\n",
    "    acum_2=AB(P_s-delta)\n",
    "    dA= (acum_1[0] - acum_2[0])/(delta*2)\n",
    "    dB= (acum_1[1] - acum_2[1])/(delta*2)\n",
    "    return dA,dB\n",
    "\n",
    "def Q_decai(t):\n",
    "    if (t<=9):\n",
    "        Q=0.15*100e6*np.exp(-0.1*t)\n",
    "    if (9<t<=180):\n",
    "        Q=0.09192*100e6*t**(-0.181)\n",
    "    if (180<t<4e6):\n",
    "        Q=0.156*100e6*t**(-0.283)\n",
    "    if (t>=4e6):\n",
    "        Q=0\n",
    "    return Q;"
   ]
  },
  {
   "cell_type": "code",
   "execution_count": 21,
   "metadata": {},
   "outputs": [],
   "source": [
    "def Calcula_Qs(Info,t):\n",
    "    Q_estr = np.empty_like(t)\n",
    "    Q_GV = np.empty_like(t)\n",
    "    Q_transf_comb = np.empty_like(t)\n",
    "    Q_secr = np.empty_like(t)\n",
    "    T_prim = np.empty_like(t)\n",
    "    P_Primario=Info[0]\n",
    "    T_Combustible=Info[1]\n",
    "    Masa_GV=Info[2]\n",
    "    T_Estructuras=Info[3]\n",
    "    Masa_Interior_RPV=Info[4]\n",
    "    Volumen_N2=Info[5]\n",
    "    \n",
    "    \n",
    "    for i in range(0,t.size):\n",
    "        T_prim[i] = Busca_T(P_Primario[i])\n",
    "        Q_estr[i] = -1*(h_estr*A_estr*(T_Estructuras[i]-T_prim[i]))\n",
    "\n",
    "        Q_GV[i] = (Ah_fg_gv_0 * (Masa_GV[i]/M_f_sec_0) *(T_prim[i] - T_sec_0))\n",
    "\n",
    "        Q_transf_comb[i] = ha_comb*(T_Combustible[i] - T_prim[i])\n",
    "\n",
    "        Q_secr[i] = (ha_secr_0* (T_prim[i]-T_secr_0))\n",
    "\n",
    "    P=Q(Q_estr,Q_GV,Q_transf_comb,Q_secr,T_prim,t)\n",
    "    \n",
    "    return P\n",
    "    "
   ]
  },
  {
   "cell_type": "code",
   "execution_count": 22,
   "metadata": {},
   "outputs": [],
   "source": [
    "def model(t,z,Pot_gen):\n",
    "    P = z[0]\n",
    "    T_comb = z[1]\n",
    "    m_T_gv = z[2]\n",
    "    T_estr = z[3]\n",
    "    m_T = z[4]\n",
    "    Vn2= z[5]\n",
    "    if(P<=0.1):\n",
    "            P=0.1\n",
    "    T_prim = Busca_T(P)\n",
    "    T_sec = Busca_T(P_sec_0)\n",
    "    F_p=AB(P)\n",
    "    dF_p=dAB(P,0.01)\n",
    "    SIE=wp.IAPWS97(P=Pn2_0,x=0)\n",
    "    LOCA=wp.IAPWS97(P=P,x=0.5)\n",
    "        \n",
    "    Q_estr = -1*(h_estr*A_estr*(T_estr-T_prim))*FLAG_ESTR\n",
    "    \n",
    "    Q_GV = (Ah_fg_gv_0 * (m_T_gv/M_f_sec_0) *(T_prim - T_sec_0))*FLAG_GV\n",
    "    \n",
    "    Q_transf_comb = ha_comb*(T_comb - T_prim)\n",
    "    \n",
    "    Q_secr = (ha_secr_0* (T_prim-T_secr_0))*FLAG_SECR\n",
    "    \n",
    "    Pn2=Pn2_0*(Vn2_0/Vn2)**1.4\n",
    "    #Ecuaciones diferenciales\n",
    "    hota=m_sie(Pn2,P,FLAG_SIE)\n",
    "    jota=m_loca(P,K_loca,P_cont,FLAG_LOCA)\n",
    "\n",
    "    dPdt = ((Pot_gen - Q_GV - Q_estr - Q_secr + hota*(SIE.Liquid.h*1000-F_p[0]) - jota*(LOCA.Vapor.h*1000-F_p[0]))/(m_T*dF_p[0] + V_T*dF_p[1]))\n",
    "    \n",
    "    #Dudoso el signo de SIE.LIQUID.H+F_p[0]\n",
    "    dT_combdt = (Pot_gen - Q_transf_comb)/(m_cp_comb)\n",
    "    \n",
    "    dm_gvdt = (-Q_GV/(hfg_sec) + Qmass_in_gv)*FLAG_MASA_GEN_VAP\n",
    "\n",
    "    dT_estrdt = Q_estr/(m_estr*cp_estr)\n",
    "    \n",
    "    dm_Tdt = hota - jota\n",
    "    \n",
    "    dVn2dt=hota/IAPWS97(T=T_sie_0,P=Pn2).rho\n",
    "\n",
    "    dzdt = [dPdt,dT_combdt,dm_gvdt,dT_estrdt,dm_Tdt,dVn2dt] #devuelvo las derivadas para el método\n",
    "    return dzdt"
   ]
  },
  {
   "cell_type": "code",
   "execution_count": 23,
   "metadata": {},
   "outputs": [
    {
     "data": {
      "text/plain": [
       "599.4099163118761"
      ]
     },
     "execution_count": 23,
     "metadata": {},
     "output_type": "execute_result"
    }
   ],
   "source": [
    "#Condiciones iniciales\n",
    "z0 = [P_0,600,600,326+273.15,m_t,Vn2_0]\n",
    "t=np.linspace(0,10000,1001)\n",
    "tspan=(0,7200)\n",
    "Busca_T(P_0)"
   ]
  },
  {
   "cell_type": "code",
   "execution_count": 24,
   "metadata": {},
   "outputs": [
    {
     "data": {
      "text/plain": [
       "109.8315607689022"
      ]
     },
     "execution_count": 24,
     "metadata": {},
     "output_type": "execute_result"
    }
   ],
   "source": [
    "#y=solve_ivp(model,tspan,z0,method='LSODA',t_eval=t)\n",
    "Busca_T(1.9)-T_secr_0"
   ]
  },
  {
   "cell_type": "markdown",
   "metadata": {},
   "source": [
    "## Verificación de la ecuación de la energía"
   ]
  },
  {
   "cell_type": "code",
   "execution_count": 25,
   "metadata": {},
   "outputs": [],
   "source": [
    "t = np.linspace(0,10000,10001)\n",
    "z0 = [P_0,873.15,600,326+273.15,m_t,Vn2_0,]\n",
    "\n",
    "# Calculemos el valor de la inhomogeneidad\n",
    "u = np.zeros(10001)\n",
    "#u=u\n",
    "\n",
    "\n",
    "# change to 2.0 at time = 5.0\n",
    "#u[301:451] = 2.92e6\n",
    "u[100:1100]=2.913728e6\n",
    "\n",
    "\n",
    "# store solution\n",
    "P_Primario = np.empty_like(t)\n",
    "T_Combustible = np.empty_like(t)\n",
    "Masa_GV = np.empty_like(t)\n",
    "T_Estructuras = np.empty_like(t)\n",
    "Masa_Interior_RPV = np.empty_like(t)\n",
    "Volumen_N2 = np.empty_like(t)\n",
    "# record initial conditions\n",
    "P_Primario[0] = z0[0]\n",
    "T_Combustible[0] = z0[1]\n",
    "Masa_GV[0] = z0[2]\n",
    "T_Estructuras[0] = z0[3]\n",
    "Masa_Interior_RPV[0] = z0[4]\n",
    "Volumen_N2[0] = z0[5]\n",
    "\n",
    "#FLAGS\n",
    "\n",
    "FLAG_SCRAM=0\n",
    "FLAG_SIE=0\n",
    "FLAG_GV=0\n",
    "FLAG_SECR=0\n",
    "FLAG_LOCA=0\n",
    "FLAG_ESTR=0\n",
    "FLAG_MASA_GEN_VAP=0\n",
    "\n",
    "\n",
    "\n",
    "# solve ODE\n",
    "for i in range(1,10001):\n",
    "    # span for next time step\n",
    "    tspan = [t[i-1],t[i]]\n",
    "    # solve for next step\n",
    "    y=solve_ivp(model,tspan,z0,method='LSODA',args=(u[i],))\n",
    "\n",
    "    # store solution for plotting\n",
    "    \n",
    "    P_Primario[i] = y.y[0][1]\n",
    "    T_Combustible[i] = y.y[1][1]\n",
    "    Masa_GV[i] = y.y[2][1]\n",
    "    T_Estructuras[i] = y.y[3][1]\n",
    "    Masa_Interior_RPV[i] = y.y[4][1]\n",
    "    Volumen_N2[i] = y.y[5][1]\n",
    "    # next initial condition\n",
    "    z0 = y.y[:,1]"
   ]
  },
  {
   "cell_type": "code",
   "execution_count": 26,
   "metadata": {},
   "outputs": [
    {
     "data": {
      "text/plain": [
       "Text(0, 0.5, 'P[MPa]')"
      ]
     },
     "execution_count": 26,
     "metadata": {},
     "output_type": "execute_result"
    }
   ],
   "source": [
    "plt.figure()\n",
    "plt.plot(t/60,P_Primario)\n",
    "plt.title('Evolución de la presión')\n",
    "plt.grid()\n",
    "plt.xlabel(\"Tiempo[min]\")\n",
    "plt.ylabel(\"P[MPa]\")"
   ]
  },
  {
   "cell_type": "code",
   "execution_count": 27,
   "metadata": {},
   "outputs": [
    {
     "data": {
      "text/plain": [
       "[<matplotlib.lines.Line2D at 0x23b66565688>]"
      ]
     },
     "execution_count": 27,
     "metadata": {},
     "output_type": "execute_result"
    }
   ],
   "source": [
    "plt.plot(t,T_Estructuras)"
   ]
  },
  {
   "cell_type": "code",
   "execution_count": 28,
   "metadata": {},
   "outputs": [],
   "source": [
    "t = np.linspace(0,20000,1001)\n",
    "Q_estr = np.empty_like(t)\n",
    "Q_GV = np.empty_like(t)\n",
    "Q_transf_comb = np.empty_like(t)\n",
    "Q_secr = np.empty_like(t)\n",
    "T_prim = np.empty_like(t)\n",
    "for i in range(0,1001):\n",
    "    T_prim[i] = Busca_T(P_Primario[i])\n",
    "    Q_estr[i] = -1*(h_estr*A_estr*(T_Estructuras[i]-T_prim[i]))\n",
    "    \n",
    "    Q_GV[i] = (Ah_fg_gv_0 * (Masa_GV[i]/M_f_sec_0) *(T_prim[i] - T_sec_0))\n",
    "    \n",
    "    Q_transf_comb[i] = ha_comb*(T_Combustible[i] - T_prim[i])\n",
    "    \n",
    "    Q_secr[i] = (ha_secr_0* (T_prim[i]-T_secr_0))"
   ]
  },
  {
   "cell_type": "code",
   "execution_count": 29,
   "metadata": {},
   "outputs": [
    {
     "data": {
      "text/plain": [
       "218.65008662293172"
      ]
     },
     "execution_count": 29,
     "metadata": {},
     "output_type": "execute_result"
    }
   ],
   "source": [
    "Busca_T(2.26)-273.15"
   ]
  },
  {
   "cell_type": "code",
   "execution_count": 30,
   "metadata": {},
   "outputs": [
    {
     "data": {
      "text/plain": [
       "(1419190.216625865, 100247966.47392315)"
      ]
     },
     "execution_count": 30,
     "metadata": {},
     "output_type": "execute_result"
    }
   ],
   "source": [
    "f_f=AB(15)\n",
    "f_f"
   ]
  },
  {
   "cell_type": "code",
   "execution_count": 31,
   "metadata": {},
   "outputs": [
    {
     "data": {
      "text/plain": [
       "(1354717.3059358613, 83253636.06381083)"
      ]
     },
     "execution_count": 31,
     "metadata": {},
     "output_type": "execute_result"
    }
   ],
   "source": [
    "f_i=AB(12.25)\n",
    "f_i"
   ]
  },
  {
   "cell_type": "code",
   "execution_count": 32,
   "metadata": {},
   "outputs": [
    {
     "data": {
      "text/plain": [
       "2913728.2544228667"
      ]
     },
     "execution_count": 32,
     "metadata": {},
     "output_type": "execute_result"
    }
   ],
   "source": [
    "(m_t*(f_f[0]-f_i[0])+V_T*(f_f[1]-f_i[1]))/1000"
   ]
  },
  {
   "cell_type": "markdown",
   "metadata": {},
   "source": [
    "## Análisis del LOHS\n",
    "La presión de disparo del SCRAM es de 13 MPa, el SECR es 13.7 MPa.\n",
    "Para esto modifiquemos el código que hace la parte del escalón, haciendo un escalón que varíe con el tiempo.\n",
    "En primer lugar, programemos la pérdida del GV."
   ]
  },
  {
   "cell_type": "code",
   "execution_count": 33,
   "metadata": {},
   "outputs": [
    {
     "ename": "KeyboardInterrupt",
     "evalue": "",
     "output_type": "error",
     "traceback": [
      "\u001b[1;31m---------------------------------------------------------------------------\u001b[0m",
      "\u001b[1;31mKeyboardInterrupt\u001b[0m                         Traceback (most recent call last)",
      "\u001b[1;32m<ipython-input-33-b2c05e5dc9a4>\u001b[0m in \u001b[0;36m<module>\u001b[1;34m\u001b[0m\n\u001b[0;32m     47\u001b[0m         \u001b[0mFLAG_SECR\u001b[0m\u001b[1;33m=\u001b[0m\u001b[1;36m1\u001b[0m\u001b[1;33m\u001b[0m\u001b[1;33m\u001b[0m\u001b[0m\n\u001b[0;32m     48\u001b[0m \u001b[1;33m\u001b[0m\u001b[0m\n\u001b[1;32m---> 49\u001b[1;33m     \u001b[0my\u001b[0m\u001b[1;33m=\u001b[0m\u001b[0msolve_ivp\u001b[0m\u001b[1;33m(\u001b[0m\u001b[0mmodel\u001b[0m\u001b[1;33m,\u001b[0m\u001b[0mtspan\u001b[0m\u001b[1;33m,\u001b[0m\u001b[0mz0\u001b[0m\u001b[1;33m,\u001b[0m\u001b[0mmethod\u001b[0m\u001b[1;33m=\u001b[0m\u001b[1;34m'LSODA'\u001b[0m\u001b[1;33m,\u001b[0m\u001b[0margs\u001b[0m\u001b[1;33m=\u001b[0m\u001b[1;33m(\u001b[0m\u001b[0mu\u001b[0m\u001b[1;33m[\u001b[0m\u001b[0mi\u001b[0m\u001b[1;33m]\u001b[0m\u001b[1;33m,\u001b[0m\u001b[1;33m)\u001b[0m\u001b[1;33m)\u001b[0m\u001b[1;33m\u001b[0m\u001b[1;33m\u001b[0m\u001b[0m\n\u001b[0m\u001b[0;32m     50\u001b[0m \u001b[1;33m\u001b[0m\u001b[0m\n\u001b[0;32m     51\u001b[0m     \u001b[1;31m# store solution for plotting\u001b[0m\u001b[1;33m\u001b[0m\u001b[1;33m\u001b[0m\u001b[1;33m\u001b[0m\u001b[0m\n",
      "\u001b[1;32mC:\\miniconda3\\envs\\dyc\\lib\\site-packages\\scipy\\integrate\\_ivp\\ivp.py\u001b[0m in \u001b[0;36msolve_ivp\u001b[1;34m(fun, t_span, y0, method, t_eval, dense_output, events, vectorized, args, **options)\u001b[0m\n\u001b[0;32m    574\u001b[0m     \u001b[0mstatus\u001b[0m \u001b[1;33m=\u001b[0m \u001b[1;32mNone\u001b[0m\u001b[1;33m\u001b[0m\u001b[1;33m\u001b[0m\u001b[0m\n\u001b[0;32m    575\u001b[0m     \u001b[1;32mwhile\u001b[0m \u001b[0mstatus\u001b[0m \u001b[1;32mis\u001b[0m \u001b[1;32mNone\u001b[0m\u001b[1;33m:\u001b[0m\u001b[1;33m\u001b[0m\u001b[1;33m\u001b[0m\u001b[0m\n\u001b[1;32m--> 576\u001b[1;33m         \u001b[0mmessage\u001b[0m \u001b[1;33m=\u001b[0m \u001b[0msolver\u001b[0m\u001b[1;33m.\u001b[0m\u001b[0mstep\u001b[0m\u001b[1;33m(\u001b[0m\u001b[1;33m)\u001b[0m\u001b[1;33m\u001b[0m\u001b[1;33m\u001b[0m\u001b[0m\n\u001b[0m\u001b[0;32m    577\u001b[0m \u001b[1;33m\u001b[0m\u001b[0m\n\u001b[0;32m    578\u001b[0m         \u001b[1;32mif\u001b[0m \u001b[0msolver\u001b[0m\u001b[1;33m.\u001b[0m\u001b[0mstatus\u001b[0m \u001b[1;33m==\u001b[0m \u001b[1;34m'finished'\u001b[0m\u001b[1;33m:\u001b[0m\u001b[1;33m\u001b[0m\u001b[1;33m\u001b[0m\u001b[0m\n",
      "\u001b[1;32mC:\\miniconda3\\envs\\dyc\\lib\\site-packages\\scipy\\integrate\\_ivp\\base.py\u001b[0m in \u001b[0;36mstep\u001b[1;34m(self)\u001b[0m\n\u001b[0;32m    179\u001b[0m         \u001b[1;32melse\u001b[0m\u001b[1;33m:\u001b[0m\u001b[1;33m\u001b[0m\u001b[1;33m\u001b[0m\u001b[0m\n\u001b[0;32m    180\u001b[0m             \u001b[0mt\u001b[0m \u001b[1;33m=\u001b[0m \u001b[0mself\u001b[0m\u001b[1;33m.\u001b[0m\u001b[0mt\u001b[0m\u001b[1;33m\u001b[0m\u001b[1;33m\u001b[0m\u001b[0m\n\u001b[1;32m--> 181\u001b[1;33m             \u001b[0msuccess\u001b[0m\u001b[1;33m,\u001b[0m \u001b[0mmessage\u001b[0m \u001b[1;33m=\u001b[0m \u001b[0mself\u001b[0m\u001b[1;33m.\u001b[0m\u001b[0m_step_impl\u001b[0m\u001b[1;33m(\u001b[0m\u001b[1;33m)\u001b[0m\u001b[1;33m\u001b[0m\u001b[1;33m\u001b[0m\u001b[0m\n\u001b[0m\u001b[0;32m    182\u001b[0m \u001b[1;33m\u001b[0m\u001b[0m\n\u001b[0;32m    183\u001b[0m             \u001b[1;32mif\u001b[0m \u001b[1;32mnot\u001b[0m \u001b[0msuccess\u001b[0m\u001b[1;33m:\u001b[0m\u001b[1;33m\u001b[0m\u001b[1;33m\u001b[0m\u001b[0m\n",
      "\u001b[1;32mC:\\miniconda3\\envs\\dyc\\lib\\site-packages\\scipy\\integrate\\_ivp\\lsoda.py\u001b[0m in \u001b[0;36m_step_impl\u001b[1;34m(self)\u001b[0m\n\u001b[0;32m    148\u001b[0m         solver._y, solver.t = integrator.run(\n\u001b[0;32m    149\u001b[0m             \u001b[0msolver\u001b[0m\u001b[1;33m.\u001b[0m\u001b[0mf\u001b[0m\u001b[1;33m,\u001b[0m \u001b[0msolver\u001b[0m\u001b[1;33m.\u001b[0m\u001b[0mjac\u001b[0m \u001b[1;32mor\u001b[0m \u001b[1;33m(\u001b[0m\u001b[1;32mlambda\u001b[0m\u001b[1;33m:\u001b[0m \u001b[1;32mNone\u001b[0m\u001b[1;33m)\u001b[0m\u001b[1;33m,\u001b[0m \u001b[0msolver\u001b[0m\u001b[1;33m.\u001b[0m\u001b[0m_y\u001b[0m\u001b[1;33m,\u001b[0m \u001b[0msolver\u001b[0m\u001b[1;33m.\u001b[0m\u001b[0mt\u001b[0m\u001b[1;33m,\u001b[0m\u001b[1;33m\u001b[0m\u001b[1;33m\u001b[0m\u001b[0m\n\u001b[1;32m--> 150\u001b[1;33m             self.t_bound, solver.f_params, solver.jac_params)\n\u001b[0m\u001b[0;32m    151\u001b[0m         \u001b[0mintegrator\u001b[0m\u001b[1;33m.\u001b[0m\u001b[0mcall_args\u001b[0m\u001b[1;33m[\u001b[0m\u001b[1;36m2\u001b[0m\u001b[1;33m]\u001b[0m \u001b[1;33m=\u001b[0m \u001b[0mitask\u001b[0m\u001b[1;33m\u001b[0m\u001b[1;33m\u001b[0m\u001b[0m\n\u001b[0;32m    152\u001b[0m \u001b[1;33m\u001b[0m\u001b[0m\n",
      "\u001b[1;32mC:\\miniconda3\\envs\\dyc\\lib\\site-packages\\scipy\\integrate\\_ode.py\u001b[0m in \u001b[0;36mrun\u001b[1;34m(self, f, jac, y0, t0, t1, f_params, jac_params)\u001b[0m\n\u001b[0;32m   1344\u001b[0m         \u001b[0margs\u001b[0m \u001b[1;33m=\u001b[0m \u001b[1;33m[\u001b[0m\u001b[0mf\u001b[0m\u001b[1;33m,\u001b[0m \u001b[0my0\u001b[0m\u001b[1;33m,\u001b[0m \u001b[0mt0\u001b[0m\u001b[1;33m,\u001b[0m \u001b[0mt1\u001b[0m\u001b[1;33m]\u001b[0m \u001b[1;33m+\u001b[0m \u001b[0mself\u001b[0m\u001b[1;33m.\u001b[0m\u001b[0mcall_args\u001b[0m\u001b[1;33m[\u001b[0m\u001b[1;33m:\u001b[0m\u001b[1;33m-\u001b[0m\u001b[1;36m1\u001b[0m\u001b[1;33m]\u001b[0m \u001b[1;33m+\u001b[0m\u001b[0;31m \u001b[0m\u001b[0;31m\\\u001b[0m\u001b[1;33m\u001b[0m\u001b[1;33m\u001b[0m\u001b[0m\n\u001b[0;32m   1345\u001b[0m                \u001b[1;33m[\u001b[0m\u001b[0mjac\u001b[0m\u001b[1;33m,\u001b[0m \u001b[0mself\u001b[0m\u001b[1;33m.\u001b[0m\u001b[0mcall_args\u001b[0m\u001b[1;33m[\u001b[0m\u001b[1;33m-\u001b[0m\u001b[1;36m1\u001b[0m\u001b[1;33m]\u001b[0m\u001b[1;33m,\u001b[0m \u001b[0mf_params\u001b[0m\u001b[1;33m,\u001b[0m \u001b[1;36m0\u001b[0m\u001b[1;33m,\u001b[0m \u001b[0mjac_params\u001b[0m\u001b[1;33m]\u001b[0m\u001b[1;33m\u001b[0m\u001b[1;33m\u001b[0m\u001b[0m\n\u001b[1;32m-> 1346\u001b[1;33m         \u001b[0my1\u001b[0m\u001b[1;33m,\u001b[0m \u001b[0mt\u001b[0m\u001b[1;33m,\u001b[0m \u001b[0mistate\u001b[0m \u001b[1;33m=\u001b[0m \u001b[0mself\u001b[0m\u001b[1;33m.\u001b[0m\u001b[0mrunner\u001b[0m\u001b[1;33m(\u001b[0m\u001b[1;33m*\u001b[0m\u001b[0margs\u001b[0m\u001b[1;33m)\u001b[0m\u001b[1;33m\u001b[0m\u001b[1;33m\u001b[0m\u001b[0m\n\u001b[0m\u001b[0;32m   1347\u001b[0m         \u001b[0mself\u001b[0m\u001b[1;33m.\u001b[0m\u001b[0mistate\u001b[0m \u001b[1;33m=\u001b[0m \u001b[0mistate\u001b[0m\u001b[1;33m\u001b[0m\u001b[1;33m\u001b[0m\u001b[0m\n\u001b[0;32m   1348\u001b[0m         \u001b[1;32mif\u001b[0m \u001b[0mistate\u001b[0m \u001b[1;33m<\u001b[0m \u001b[1;36m0\u001b[0m\u001b[1;33m:\u001b[0m\u001b[1;33m\u001b[0m\u001b[1;33m\u001b[0m\u001b[0m\n",
      "\u001b[1;32mC:\\miniconda3\\envs\\dyc\\lib\\site-packages\\scipy\\integrate\\_ivp\\base.py\u001b[0m in \u001b[0;36mfun\u001b[1;34m(t, y)\u001b[0m\n\u001b[0;32m    136\u001b[0m         \u001b[1;32mdef\u001b[0m \u001b[0mfun\u001b[0m\u001b[1;33m(\u001b[0m\u001b[0mt\u001b[0m\u001b[1;33m,\u001b[0m \u001b[0my\u001b[0m\u001b[1;33m)\u001b[0m\u001b[1;33m:\u001b[0m\u001b[1;33m\u001b[0m\u001b[1;33m\u001b[0m\u001b[0m\n\u001b[0;32m    137\u001b[0m             \u001b[0mself\u001b[0m\u001b[1;33m.\u001b[0m\u001b[0mnfev\u001b[0m \u001b[1;33m+=\u001b[0m \u001b[1;36m1\u001b[0m\u001b[1;33m\u001b[0m\u001b[1;33m\u001b[0m\u001b[0m\n\u001b[1;32m--> 138\u001b[1;33m             \u001b[1;32mreturn\u001b[0m \u001b[0mself\u001b[0m\u001b[1;33m.\u001b[0m\u001b[0mfun_single\u001b[0m\u001b[1;33m(\u001b[0m\u001b[0mt\u001b[0m\u001b[1;33m,\u001b[0m \u001b[0my\u001b[0m\u001b[1;33m)\u001b[0m\u001b[1;33m\u001b[0m\u001b[1;33m\u001b[0m\u001b[0m\n\u001b[0m\u001b[0;32m    139\u001b[0m \u001b[1;33m\u001b[0m\u001b[0m\n\u001b[0;32m    140\u001b[0m         \u001b[0mself\u001b[0m\u001b[1;33m.\u001b[0m\u001b[0mfun\u001b[0m \u001b[1;33m=\u001b[0m \u001b[0mfun\u001b[0m\u001b[1;33m\u001b[0m\u001b[1;33m\u001b[0m\u001b[0m\n",
      "\u001b[1;32mC:\\miniconda3\\envs\\dyc\\lib\\site-packages\\scipy\\integrate\\_ivp\\base.py\u001b[0m in \u001b[0;36mfun_wrapped\u001b[1;34m(t, y)\u001b[0m\n\u001b[0;32m     18\u001b[0m \u001b[1;33m\u001b[0m\u001b[0m\n\u001b[0;32m     19\u001b[0m     \u001b[1;32mdef\u001b[0m \u001b[0mfun_wrapped\u001b[0m\u001b[1;33m(\u001b[0m\u001b[0mt\u001b[0m\u001b[1;33m,\u001b[0m \u001b[0my\u001b[0m\u001b[1;33m)\u001b[0m\u001b[1;33m:\u001b[0m\u001b[1;33m\u001b[0m\u001b[1;33m\u001b[0m\u001b[0m\n\u001b[1;32m---> 20\u001b[1;33m         \u001b[1;32mreturn\u001b[0m \u001b[0mnp\u001b[0m\u001b[1;33m.\u001b[0m\u001b[0masarray\u001b[0m\u001b[1;33m(\u001b[0m\u001b[0mfun\u001b[0m\u001b[1;33m(\u001b[0m\u001b[0mt\u001b[0m\u001b[1;33m,\u001b[0m \u001b[0my\u001b[0m\u001b[1;33m)\u001b[0m\u001b[1;33m,\u001b[0m \u001b[0mdtype\u001b[0m\u001b[1;33m=\u001b[0m\u001b[0mdtype\u001b[0m\u001b[1;33m)\u001b[0m\u001b[1;33m\u001b[0m\u001b[1;33m\u001b[0m\u001b[0m\n\u001b[0m\u001b[0;32m     21\u001b[0m \u001b[1;33m\u001b[0m\u001b[0m\n\u001b[0;32m     22\u001b[0m     \u001b[1;32mreturn\u001b[0m \u001b[0mfun_wrapped\u001b[0m\u001b[1;33m,\u001b[0m \u001b[0my0\u001b[0m\u001b[1;33m\u001b[0m\u001b[1;33m\u001b[0m\u001b[0m\n",
      "\u001b[1;32mC:\\miniconda3\\envs\\dyc\\lib\\site-packages\\scipy\\integrate\\_ivp\\ivp.py\u001b[0m in \u001b[0;36m<lambda>\u001b[1;34m(t, x, fun)\u001b[0m\n\u001b[0;32m    512\u001b[0m         \u001b[1;31m# additional parameters.  Pass in the original fun as a keyword\u001b[0m\u001b[1;33m\u001b[0m\u001b[1;33m\u001b[0m\u001b[1;33m\u001b[0m\u001b[0m\n\u001b[0;32m    513\u001b[0m         \u001b[1;31m# argument to keep it in the scope of the lambda.\u001b[0m\u001b[1;33m\u001b[0m\u001b[1;33m\u001b[0m\u001b[1;33m\u001b[0m\u001b[0m\n\u001b[1;32m--> 514\u001b[1;33m         \u001b[0mfun\u001b[0m \u001b[1;33m=\u001b[0m \u001b[1;32mlambda\u001b[0m \u001b[0mt\u001b[0m\u001b[1;33m,\u001b[0m \u001b[0mx\u001b[0m\u001b[1;33m,\u001b[0m \u001b[0mfun\u001b[0m\u001b[1;33m=\u001b[0m\u001b[0mfun\u001b[0m\u001b[1;33m:\u001b[0m \u001b[0mfun\u001b[0m\u001b[1;33m(\u001b[0m\u001b[0mt\u001b[0m\u001b[1;33m,\u001b[0m \u001b[0mx\u001b[0m\u001b[1;33m,\u001b[0m \u001b[1;33m*\u001b[0m\u001b[0margs\u001b[0m\u001b[1;33m)\u001b[0m\u001b[1;33m\u001b[0m\u001b[1;33m\u001b[0m\u001b[0m\n\u001b[0m\u001b[0;32m    515\u001b[0m         \u001b[0mjac\u001b[0m \u001b[1;33m=\u001b[0m \u001b[0moptions\u001b[0m\u001b[1;33m.\u001b[0m\u001b[0mget\u001b[0m\u001b[1;33m(\u001b[0m\u001b[1;34m'jac'\u001b[0m\u001b[1;33m)\u001b[0m\u001b[1;33m\u001b[0m\u001b[1;33m\u001b[0m\u001b[0m\n\u001b[0;32m    516\u001b[0m         \u001b[1;32mif\u001b[0m \u001b[0mcallable\u001b[0m\u001b[1;33m(\u001b[0m\u001b[0mjac\u001b[0m\u001b[1;33m)\u001b[0m\u001b[1;33m:\u001b[0m\u001b[1;33m\u001b[0m\u001b[1;33m\u001b[0m\u001b[0m\n",
      "\u001b[1;32m<ipython-input-22-728e9c0c6192>\u001b[0m in \u001b[0;36mmodel\u001b[1;34m(t, z, Pot_gen)\u001b[0m\n\u001b[0;32m     12\u001b[0m     \u001b[0mF_p\u001b[0m\u001b[1;33m=\u001b[0m\u001b[0mAB\u001b[0m\u001b[1;33m(\u001b[0m\u001b[0mP\u001b[0m\u001b[1;33m)\u001b[0m\u001b[1;33m\u001b[0m\u001b[1;33m\u001b[0m\u001b[0m\n\u001b[0;32m     13\u001b[0m     \u001b[0mdF_p\u001b[0m\u001b[1;33m=\u001b[0m\u001b[0mdAB\u001b[0m\u001b[1;33m(\u001b[0m\u001b[0mP\u001b[0m\u001b[1;33m,\u001b[0m\u001b[1;36m0.01\u001b[0m\u001b[1;33m)\u001b[0m\u001b[1;33m\u001b[0m\u001b[1;33m\u001b[0m\u001b[0m\n\u001b[1;32m---> 14\u001b[1;33m     \u001b[0mSIE\u001b[0m\u001b[1;33m=\u001b[0m\u001b[0mwp\u001b[0m\u001b[1;33m.\u001b[0m\u001b[0mIAPWS97\u001b[0m\u001b[1;33m(\u001b[0m\u001b[0mP\u001b[0m\u001b[1;33m=\u001b[0m\u001b[0mPn2_0\u001b[0m\u001b[1;33m,\u001b[0m\u001b[0mx\u001b[0m\u001b[1;33m=\u001b[0m\u001b[1;36m0\u001b[0m\u001b[1;33m)\u001b[0m\u001b[1;33m\u001b[0m\u001b[1;33m\u001b[0m\u001b[0m\n\u001b[0m\u001b[0;32m     15\u001b[0m     \u001b[0mLOCA\u001b[0m\u001b[1;33m=\u001b[0m\u001b[0mwp\u001b[0m\u001b[1;33m.\u001b[0m\u001b[0mIAPWS97\u001b[0m\u001b[1;33m(\u001b[0m\u001b[0mP\u001b[0m\u001b[1;33m=\u001b[0m\u001b[0mP\u001b[0m\u001b[1;33m,\u001b[0m\u001b[0mx\u001b[0m\u001b[1;33m=\u001b[0m\u001b[1;36m0.5\u001b[0m\u001b[1;33m)\u001b[0m\u001b[1;33m\u001b[0m\u001b[1;33m\u001b[0m\u001b[0m\n\u001b[0;32m     16\u001b[0m \u001b[1;33m\u001b[0m\u001b[0m\n",
      "\u001b[1;32mC:\\miniconda3\\envs\\dyc\\lib\\site-packages\\iapws\\iapws97.py\u001b[0m in \u001b[0;36m__init__\u001b[1;34m(self, **kwargs)\u001b[0m\n\u001b[0;32m   4328\u001b[0m     \u001b[1;32mdef\u001b[0m \u001b[0m__init__\u001b[0m\u001b[1;33m(\u001b[0m\u001b[0mself\u001b[0m\u001b[1;33m,\u001b[0m \u001b[1;33m**\u001b[0m\u001b[0mkwargs\u001b[0m\u001b[1;33m)\u001b[0m\u001b[1;33m:\u001b[0m\u001b[1;33m\u001b[0m\u001b[1;33m\u001b[0m\u001b[0m\n\u001b[0;32m   4329\u001b[0m         \u001b[0mself\u001b[0m\u001b[1;33m.\u001b[0m\u001b[0mkwargs\u001b[0m \u001b[1;33m=\u001b[0m \u001b[0mIAPWS97\u001b[0m\u001b[1;33m.\u001b[0m\u001b[0mkwargs\u001b[0m\u001b[1;33m.\u001b[0m\u001b[0mcopy\u001b[0m\u001b[1;33m(\u001b[0m\u001b[1;33m)\u001b[0m\u001b[1;33m\u001b[0m\u001b[1;33m\u001b[0m\u001b[0m\n\u001b[1;32m-> 4330\u001b[1;33m         \u001b[0mself\u001b[0m\u001b[1;33m.\u001b[0m\u001b[0m__call__\u001b[0m\u001b[1;33m(\u001b[0m\u001b[1;33m**\u001b[0m\u001b[0mkwargs\u001b[0m\u001b[1;33m)\u001b[0m\u001b[1;33m\u001b[0m\u001b[1;33m\u001b[0m\u001b[0m\n\u001b[0m\u001b[0;32m   4331\u001b[0m \u001b[1;33m\u001b[0m\u001b[0m\n\u001b[0;32m   4332\u001b[0m     \u001b[1;32mdef\u001b[0m \u001b[0m__call__\u001b[0m\u001b[1;33m(\u001b[0m\u001b[0mself\u001b[0m\u001b[1;33m,\u001b[0m \u001b[1;33m**\u001b[0m\u001b[0mkwargs\u001b[0m\u001b[1;33m)\u001b[0m\u001b[1;33m:\u001b[0m\u001b[1;33m\u001b[0m\u001b[1;33m\u001b[0m\u001b[0m\n",
      "\u001b[1;32mC:\\miniconda3\\envs\\dyc\\lib\\site-packages\\iapws\\iapws97.py\u001b[0m in \u001b[0;36m__call__\u001b[1;34m(self, **kwargs)\u001b[0m\n\u001b[0;32m   4335\u001b[0m         \u001b[1;32mif\u001b[0m \u001b[0mself\u001b[0m\u001b[1;33m.\u001b[0m\u001b[0mcalculable\u001b[0m\u001b[1;33m:\u001b[0m\u001b[1;33m\u001b[0m\u001b[1;33m\u001b[0m\u001b[0m\n\u001b[0;32m   4336\u001b[0m             \u001b[0mself\u001b[0m\u001b[1;33m.\u001b[0m\u001b[0mstatus\u001b[0m \u001b[1;33m=\u001b[0m \u001b[1;36m1\u001b[0m\u001b[1;33m\u001b[0m\u001b[1;33m\u001b[0m\u001b[0m\n\u001b[1;32m-> 4337\u001b[1;33m             \u001b[0mself\u001b[0m\u001b[1;33m.\u001b[0m\u001b[0mcalculo\u001b[0m\u001b[1;33m(\u001b[0m\u001b[1;33m)\u001b[0m\u001b[1;33m\u001b[0m\u001b[1;33m\u001b[0m\u001b[0m\n\u001b[0m\u001b[0;32m   4338\u001b[0m             \u001b[0mself\u001b[0m\u001b[1;33m.\u001b[0m\u001b[0mmsg\u001b[0m \u001b[1;33m=\u001b[0m \u001b[1;34m\"Solved\"\u001b[0m\u001b[1;33m\u001b[0m\u001b[1;33m\u001b[0m\u001b[0m\n\u001b[0;32m   4339\u001b[0m \u001b[1;33m\u001b[0m\u001b[0m\n",
      "\u001b[1;32mC:\\miniconda3\\envs\\dyc\\lib\\site-packages\\iapws\\iapws97.py\u001b[0m in \u001b[0;36mcalculo\u001b[1;34m(self)\u001b[0m\n\u001b[0;32m   4643\u001b[0m         \u001b[1;32mif\u001b[0m \u001b[0mself\u001b[0m\u001b[1;33m.\u001b[0m\u001b[0mx\u001b[0m \u001b[1;33m==\u001b[0m \u001b[1;36m0\u001b[0m\u001b[1;33m:\u001b[0m\u001b[1;33m\u001b[0m\u001b[1;33m\u001b[0m\u001b[0m\n\u001b[0;32m   4644\u001b[0m             \u001b[1;31m# only liquid phase\u001b[0m\u001b[1;33m\u001b[0m\u001b[1;33m\u001b[0m\u001b[1;33m\u001b[0m\u001b[0m\n\u001b[1;32m-> 4645\u001b[1;33m             \u001b[0mself\u001b[0m\u001b[1;33m.\u001b[0m\u001b[0mfill\u001b[0m\u001b[1;33m(\u001b[0m\u001b[0mself\u001b[0m\u001b[1;33m,\u001b[0m \u001b[0mpropiedades\u001b[0m\u001b[1;33m)\u001b[0m\u001b[1;33m\u001b[0m\u001b[1;33m\u001b[0m\u001b[0m\n\u001b[0m\u001b[0;32m   4646\u001b[0m             \u001b[0mself\u001b[0m\u001b[1;33m.\u001b[0m\u001b[0mfill\u001b[0m\u001b[1;33m(\u001b[0m\u001b[0mself\u001b[0m\u001b[1;33m.\u001b[0m\u001b[0mLiquid\u001b[0m\u001b[1;33m,\u001b[0m \u001b[0mpropiedades\u001b[0m\u001b[1;33m)\u001b[0m\u001b[1;33m\u001b[0m\u001b[1;33m\u001b[0m\u001b[0m\n\u001b[0;32m   4647\u001b[0m             \u001b[0mself\u001b[0m\u001b[1;33m.\u001b[0m\u001b[0msigma\u001b[0m \u001b[1;33m=\u001b[0m \u001b[0m_Tension\u001b[0m\u001b[1;33m(\u001b[0m\u001b[0mself\u001b[0m\u001b[1;33m.\u001b[0m\u001b[0mT\u001b[0m\u001b[1;33m)\u001b[0m\u001b[1;33m\u001b[0m\u001b[1;33m\u001b[0m\u001b[0m\n",
      "\u001b[1;32mC:\\miniconda3\\envs\\dyc\\lib\\site-packages\\iapws\\iapws97.py\u001b[0m in \u001b[0;36mfill\u001b[1;34m(self, fase, estado)\u001b[0m\n\u001b[0;32m   4701\u001b[0m         \u001b[1;31m# conductivity calculation\u001b[0m\u001b[1;33m\u001b[0m\u001b[1;33m\u001b[0m\u001b[1;33m\u001b[0m\u001b[0m\n\u001b[0;32m   4702\u001b[0m         \u001b[0mfase\u001b[0m\u001b[1;33m.\u001b[0m\u001b[0mdrhodP_T\u001b[0m \u001b[1;33m=\u001b[0m \u001b[0mself\u001b[0m\u001b[1;33m.\u001b[0m\u001b[0mderivative\u001b[0m\u001b[1;33m(\u001b[0m\u001b[1;34m\"rho\"\u001b[0m\u001b[1;33m,\u001b[0m \u001b[1;34m\"P\"\u001b[0m\u001b[1;33m,\u001b[0m \u001b[1;34m\"T\"\u001b[0m\u001b[1;33m,\u001b[0m \u001b[0mfase\u001b[0m\u001b[1;33m)\u001b[0m\u001b[1;33m\u001b[0m\u001b[1;33m\u001b[0m\u001b[0m\n\u001b[1;32m-> 4703\u001b[1;33m         \u001b[0mfase\u001b[0m\u001b[1;33m.\u001b[0m\u001b[0mk\u001b[0m \u001b[1;33m=\u001b[0m \u001b[0m_ThCond\u001b[0m\u001b[1;33m(\u001b[0m\u001b[0mfase\u001b[0m\u001b[1;33m.\u001b[0m\u001b[0mrho\u001b[0m\u001b[1;33m,\u001b[0m \u001b[0mself\u001b[0m\u001b[1;33m.\u001b[0m\u001b[0mT\u001b[0m\u001b[1;33m,\u001b[0m \u001b[0mfase\u001b[0m\u001b[1;33m)\u001b[0m\u001b[1;33m\u001b[0m\u001b[1;33m\u001b[0m\u001b[0m\n\u001b[0m\u001b[0;32m   4704\u001b[0m \u001b[1;33m\u001b[0m\u001b[0m\n\u001b[0;32m   4705\u001b[0m         \u001b[0mfase\u001b[0m\u001b[1;33m.\u001b[0m\u001b[0mnu\u001b[0m \u001b[1;33m=\u001b[0m \u001b[0mfase\u001b[0m\u001b[1;33m.\u001b[0m\u001b[0mmu\u001b[0m\u001b[1;33m/\u001b[0m\u001b[0mfase\u001b[0m\u001b[1;33m.\u001b[0m\u001b[0mrho\u001b[0m\u001b[1;33m\u001b[0m\u001b[1;33m\u001b[0m\u001b[0m\n",
      "\u001b[1;32mC:\\miniconda3\\envs\\dyc\\lib\\site-packages\\iapws\\_iapws.py\u001b[0m in \u001b[0;36m_ThCond\u001b[1;34m(rho, T, fase, drho)\u001b[0m\n\u001b[0;32m    862\u001b[0m                 ai = [1.11999926419994, 0.595748562571649, 9.88952565078920,\n\u001b[0;32m    863\u001b[0m                       -10.3255051147040, 4.66861294457414, -0.503243546373828]\n\u001b[1;32m--> 864\u001b[1;33m             \u001b[0mdrho\u001b[0m \u001b[1;33m=\u001b[0m \u001b[1;36m1\u001b[0m\u001b[1;33m/\u001b[0m\u001b[0msum\u001b[0m\u001b[1;33m(\u001b[0m\u001b[1;33m[\u001b[0m\u001b[0ma\u001b[0m\u001b[1;33m*\u001b[0m\u001b[0md\u001b[0m\u001b[1;33m**\u001b[0m\u001b[0mi\u001b[0m \u001b[1;32mfor\u001b[0m \u001b[0mi\u001b[0m\u001b[1;33m,\u001b[0m \u001b[0ma\u001b[0m \u001b[1;32min\u001b[0m \u001b[0menumerate\u001b[0m\u001b[1;33m(\u001b[0m\u001b[0mai\u001b[0m\u001b[1;33m)\u001b[0m\u001b[1;33m]\u001b[0m\u001b[1;33m)\u001b[0m\u001b[1;33m*\u001b[0m\u001b[0mrhoc\u001b[0m\u001b[1;33m/\u001b[0m\u001b[0mPc\u001b[0m\u001b[1;33m\u001b[0m\u001b[1;33m\u001b[0m\u001b[0m\n\u001b[0m\u001b[0;32m    865\u001b[0m \u001b[1;33m\u001b[0m\u001b[0m\n\u001b[0;32m    866\u001b[0m         \u001b[0mDeltaX\u001b[0m \u001b[1;33m=\u001b[0m \u001b[0md\u001b[0m\u001b[1;33m*\u001b[0m\u001b[1;33m(\u001b[0m\u001b[0mPc\u001b[0m\u001b[1;33m/\u001b[0m\u001b[0mrhoc\u001b[0m\u001b[1;33m*\u001b[0m\u001b[0mfase\u001b[0m\u001b[1;33m.\u001b[0m\u001b[0mdrhodP_T\u001b[0m\u001b[1;33m-\u001b[0m\u001b[0mPc\u001b[0m\u001b[1;33m/\u001b[0m\u001b[0mrhoc\u001b[0m\u001b[1;33m*\u001b[0m\u001b[0mdrho\u001b[0m\u001b[1;33m*\u001b[0m\u001b[1;36m1.5\u001b[0m\u001b[1;33m/\u001b[0m\u001b[0mTr\u001b[0m\u001b[1;33m)\u001b[0m\u001b[1;33m\u001b[0m\u001b[1;33m\u001b[0m\u001b[0m\n",
      "\u001b[1;32mC:\\miniconda3\\envs\\dyc\\lib\\site-packages\\iapws\\_iapws.py\u001b[0m in \u001b[0;36m<listcomp>\u001b[1;34m(.0)\u001b[0m\n\u001b[0;32m    862\u001b[0m                 ai = [1.11999926419994, 0.595748562571649, 9.88952565078920,\n\u001b[0;32m    863\u001b[0m                       -10.3255051147040, 4.66861294457414, -0.503243546373828]\n\u001b[1;32m--> 864\u001b[1;33m             \u001b[0mdrho\u001b[0m \u001b[1;33m=\u001b[0m \u001b[1;36m1\u001b[0m\u001b[1;33m/\u001b[0m\u001b[0msum\u001b[0m\u001b[1;33m(\u001b[0m\u001b[1;33m[\u001b[0m\u001b[0ma\u001b[0m\u001b[1;33m*\u001b[0m\u001b[0md\u001b[0m\u001b[1;33m**\u001b[0m\u001b[0mi\u001b[0m \u001b[1;32mfor\u001b[0m \u001b[0mi\u001b[0m\u001b[1;33m,\u001b[0m \u001b[0ma\u001b[0m \u001b[1;32min\u001b[0m \u001b[0menumerate\u001b[0m\u001b[1;33m(\u001b[0m\u001b[0mai\u001b[0m\u001b[1;33m)\u001b[0m\u001b[1;33m]\u001b[0m\u001b[1;33m)\u001b[0m\u001b[1;33m*\u001b[0m\u001b[0mrhoc\u001b[0m\u001b[1;33m/\u001b[0m\u001b[0mPc\u001b[0m\u001b[1;33m\u001b[0m\u001b[1;33m\u001b[0m\u001b[0m\n\u001b[0m\u001b[0;32m    865\u001b[0m \u001b[1;33m\u001b[0m\u001b[0m\n\u001b[0;32m    866\u001b[0m         \u001b[0mDeltaX\u001b[0m \u001b[1;33m=\u001b[0m \u001b[0md\u001b[0m\u001b[1;33m*\u001b[0m\u001b[1;33m(\u001b[0m\u001b[0mPc\u001b[0m\u001b[1;33m/\u001b[0m\u001b[0mrhoc\u001b[0m\u001b[1;33m*\u001b[0m\u001b[0mfase\u001b[0m\u001b[1;33m.\u001b[0m\u001b[0mdrhodP_T\u001b[0m\u001b[1;33m-\u001b[0m\u001b[0mPc\u001b[0m\u001b[1;33m/\u001b[0m\u001b[0mrhoc\u001b[0m\u001b[1;33m*\u001b[0m\u001b[0mdrho\u001b[0m\u001b[1;33m*\u001b[0m\u001b[1;36m1.5\u001b[0m\u001b[1;33m/\u001b[0m\u001b[0mTr\u001b[0m\u001b[1;33m)\u001b[0m\u001b[1;33m\u001b[0m\u001b[1;33m\u001b[0m\u001b[0m\n",
      "\u001b[1;31mKeyboardInterrupt\u001b[0m: "
     ]
    }
   ],
   "source": [
    "t = np.linspace(0,126000,100001)\n",
    "z0 = [P_0,600+273.15,600,326+273.15,m_t,Vn2_0]\n",
    "\n",
    "# Calculemos el valor de la inhomogeneidad\n",
    "u = np.zeros(100001)\n",
    "u=u+100e6 #colocamos una potencia constante\n",
    "\n",
    "# store solution\n",
    "P_Primario = np.empty_like(t)\n",
    "T_Combustible = np.empty_like(t)\n",
    "Masa_GV = np.empty_like(t)\n",
    "T_Estructuras = np.empty_like(t)\n",
    "Masa_Interior_RPV = np.empty_like(t)\n",
    "Volumen_N2 = np.empty_like(t)\n",
    "# record initial conditions\n",
    "P_Primario[0] = z0[0]\n",
    "T_Combustible[0] = z0[1]\n",
    "Masa_GV[0] = z0[2]\n",
    "T_Estructuras[0] = z0[3]\n",
    "Masa_Interior_RPV[0] = z0[4]\n",
    "Volumen_N2[0] = z0[5]\n",
    "\n",
    "#FLAGS\n",
    "FLAG_SCRAM=0\n",
    "FLAG_SIE=0\n",
    "FLAG_GV=1\n",
    "FLAG_SECR=0\n",
    "FLAG_LOCA=0\n",
    "FLAG_ESTR=1\n",
    "FLAG_MASA_GEN_VAP=0\n",
    "\n",
    "\n",
    "# solve ODE\n",
    "for i in range(1,100001):\n",
    "    # span for next time step\n",
    "    tspan = [t[i-1],t[i]]\n",
    "    # solve for next step\n",
    "    if(t[i-1]>1000):\n",
    "        FLAG_GV=0\n",
    "    if(z0[0]>13):\n",
    "        if(FLAG_SCRAM==0):\n",
    "            t_scram = t[i-1]\n",
    "            FLAG_SCRAM = 1\n",
    "    if(FLAG_SCRAM == 1):\n",
    "        u[i]=Q_decai(t[i-1]-t_scram)\n",
    "    if(z0[0]>13.7):\n",
    "        FLAG_SECR=1\n",
    "        \n",
    "    y=solve_ivp(model,tspan,z0,method='LSODA',args=(u[i],))\n",
    "\n",
    "    # store solution for plotting\n",
    "    \n",
    "    P_Primario[i] = y.y[0][1]\n",
    "    T_Combustible[i] = y.y[1][1]\n",
    "    Masa_GV[i] = y.y[2][1]\n",
    "    T_Estructuras[i] = y.y[3][1]\n",
    "    Masa_Interior_RPV[i] = y.y[4][1]\n",
    "    Volumen_N2[i] = y.y[5][1]\n",
    "    # next initial condition\n",
    "    z0 = y.y[:,1]\n",
    "Salida_LOHS = (P_Primario,T_Combustible,Masa_GV,T_Estructuras,Masa_Interior_RPV,Volumen_N2)"
   ]
  },
  {
   "cell_type": "code",
   "execution_count": null,
   "metadata": {},
   "outputs": [],
   "source": [
    "plt.plot(t/3600,P_Primario)"
   ]
  },
  {
   "cell_type": "code",
   "execution_count": null,
   "metadata": {},
   "outputs": [],
   "source": [
    "t = np.linspace(0,10000,100001)\n",
    "Q_estr = np.empty_like(t)\n",
    "Q_GV = np.empty_like(t)\n",
    "Q_transf_comb = np.empty_like(t)\n",
    "Q_secr = np.empty_like(t)\n",
    "for i in range(0,100001):\n",
    "    T_prim = Busca_T(P_Primario[i])\n",
    "    Q_estr[i] = -1*(h_estr*A_estr*(T_Estructuras[i]-T_prim))\n",
    "    \n",
    "    Q_GV[i] = (Ah_fg_gv_0 * (Masa_GV[i]/M_f_sec_0) *(T_prim - T_sec_0))\n",
    "    \n",
    "    Q_transf_comb[i] = ha_comb*(T_Combustible[i] - T_prim)\n",
    "    \n",
    "    Q_secr[i] = (ha_secr_0* (T_prim-T_secr_0))"
   ]
  },
  {
   "cell_type": "code",
   "execution_count": null,
   "metadata": {},
   "outputs": [],
   "source": [
    "plt.plot(t,Q_secr)"
   ]
  },
  {
   "cell_type": "markdown",
   "metadata": {},
   "source": [
    "### Simulación de LOCA"
   ]
  },
  {
   "cell_type": "code",
   "execution_count": null,
   "metadata": {},
   "outputs": [],
   "source": [
    "A_locas=1.14e-3#metros cuadrados=(30,40,50,60)\n",
    "P_iny=(1.5)\n",
    "\n",
    "V_f_sie_0s=(40,50)\n",
    "Salida_LOCA_2=[]\n",
    "for indice in range(0,2):\n",
    "    V_f_sie_0=V_f_sie_0s[indice]\n",
    "    t1 = np.linspace(0,3000,3000)\n",
    "    t2 = np.linspace(3001,129000,30000)\n",
    "    t = np.concatenate((t1,t2))\n",
    "    z0=[P_0,T_0,M_f_sec_0,T_estr_0,m_t,Vn2_0]\n",
    "    A_loca=A_locas\n",
    "    \n",
    "   \n",
    "\n",
    "    u =np.zeros(t.size)\n",
    "    # store solution\n",
    "    P_Primario = np.empty_like(t)\n",
    "    T_Combustible = np.empty_like(t)\n",
    "    Masa_GV = np.empty_like(t)\n",
    "    T_Estructuras = np.empty_like(t)\n",
    "    Masa_Interior_RPV = np.empty_like(t)\n",
    "    Volumen_N2 = np.empty_like(t)\n",
    "    m_lok = np.empty_like(t)\n",
    "    m_cie=np.empty_like(t)\n",
    "    Volumen_interior_RPV=np.empty_like(t)\n",
    "    Masa_liquido_Interior_RPV=np.empty_like(t)\n",
    "    Volumen_liquido_interior_RPV=np.empty_like(t)\n",
    "\n",
    "    P_Primario[0] = z0[0]\n",
    "    T_Combustible[0] = z0[1]\n",
    "    Masa_GV[0] = z0[2]\n",
    "    T_Estructuras[0] = z0[3]\n",
    "    Masa_Interior_RPV[0] = z0[4]\n",
    "    Volumen_N2[0] = z0[5]\n",
    "\n",
    "    #FLAGS\n",
    "    FLAG_SCRAM=1\n",
    "    FLAG_SIE=0\n",
    "    FLAG_GV=1\n",
    "    FLAG_SECR=0\n",
    "    FLAG_LOCA=1\n",
    "    FLAG_MASA_GEN_VAP=1\n",
    "    FLAG_ESTR=1\n",
    "\n",
    "\n",
    "\n",
    "    for i in range(1,t.size):\n",
    "        # span for next time step\n",
    "        tspan = [t[i-1],t[i]]\n",
    "        # solve for next step\n",
    "        if(z0[0]<P_iny):#Mpa\n",
    "            FLAG_SIE=1\n",
    "        if(z0[0]<6):\n",
    "            FLAG_SECR = 1\n",
    "        u[i]=Q_decai(t[i])\n",
    "        if(z0[5]>=V_f_sie_0+Vn2_0):\n",
    "            FLAG_SIE=0\n",
    "        if(z0[0]<=0.1):\n",
    "            z0[0]=0.1  \n",
    "            FLAG_LOCA=0\n",
    "    \n",
    "        \n",
    "        y=solve_ivp(model,tspan,z0,method='LSODA',args=(u[i],))\n",
    "        # store solution for plotting\n",
    "        \n",
    "        if (y.y[0][1]<=0.1):\n",
    "            y.y[0][1]=0.1\n",
    "        P_Primario[i] = y.y[0][1]\n",
    "        T_Combustible[i] = y.y[1][1]\n",
    "        Masa_GV[i] = y.y[2][1]\n",
    "        if(Masa_GV[i]<0.1):\n",
    "            FLAG_GV=0\n",
    "        T_Estructuras[i] = y.y[3][1]\n",
    "        Masa_Interior_RPV[i] = y.y[4][1]\n",
    "        Volumen_N2[i] = y.y[5][1]\n",
    "        Pn2=Pn2_0*(Vn2_0/Volumen_N2[i])**1.4\n",
    "        m_lok[i]=m_loca(P_Primario[i],K_loca,P_cont,FLAG_LOCA)\n",
    "        m_cie[i]=m_sie(Pn2,P_Primario[i],FLAG_SIE)\n",
    "        Masa_liquido_Interior_RPV[i]=(V_T-Masa_Interior_RPV[i]/IAPWS97(P=P_Primario[i],x=0.5).Vapor.rho)/(1/IAPWS97(P=P_Primario[i],x=0.5).Liquid.rho-1/IAPWS97(P=P_Primario[i],x=0.5).Vapor.rho)\n",
    "        Volumen_liquido_interior_RPV[i]=Masa_liquido_Interior_RPV[i]/IAPWS97(P=P_Primario[i],x=0.5).Liquid.rho\n",
    "        print(i)\n",
    "       \n",
    "    \n",
    "        # next initial condition\n",
    "        z0 = y.y[:,1]\n",
    "    Salida_LOCA_2.append(Salida(P_Primario,T_Combustible,Masa_GV,T_Estructuras,Masa_Interior_RPV,Volumen_N2,Volumen_liquido_interior_RPV,m_lok,m_cie,t))\n",
    "#Salida_LOCA = (P_Primario,T_Combustible,Masa_GV,T_Estructuras,Masa_Interior_RPV,Volumen_N2)"
   ]
  },
  {
   "cell_type": "code",
   "execution_count": null,
   "metadata": {},
   "outputs": [],
   "source": [
    "fig, ax = plt.subplots()\n",
    "\n",
    "ax.plot(t/3600,  Salida_LOCA_2[2].Volumen_liquido_interior_RPV, label=r\"$y = P Primario$\")\n",
    "#ax.plot(t/3600, y, label=r\"$x = t(h)\")\n",
    "ax.legend(loc=2) # upper left corner\n",
    "ax.set_xlabel(r'$tiempo(h)$')\n",
    "ax.set_ylabel(r'$P Primario(Mpa)$')\n",
    "#ax.set_title('title');\n",
    "Volumen_N2[-1]\n"
   ]
  },
  {
   "cell_type": "code",
   "execution_count": null,
   "metadata": {},
   "outputs": [],
   "source": [
    "fig, ax = plt.subplots()\n",
    "\n",
    "ax.plot(t/3600, m_lok,label=r\"m-loca\")\n",
    "#ax.plot(t/3600, y, label=r\"$x = t(h)\")\n",
    "ax.legend(loc=2) # upper left corner\n",
    "ax.set_xlabel(r'$tiempo(h)$')\n",
    "ax.set_ylabel(r'$M loca$')\n",
    "#ax.set_title('title');"
   ]
  },
  {
   "cell_type": "code",
   "execution_count": null,
   "metadata": {},
   "outputs": [],
   "source": [
    "f = open('simulacion_volumen_50_domingo_mediodia.pckl', 'wb')\n",
    "pickle.dump( Salida_LOCA_2[1], f)\n",
    "f.close()"
   ]
  },
  {
   "cell_type": "code",
   "execution_count": null,
   "metadata": {},
   "outputs": [],
   "source": [
    "f = open('30volumen.pckl', 'rb')\n",
    "vol30 = pickle.load(f)\n",
    "f.close()"
   ]
  }
 ],
 "metadata": {
  "kernelspec": {
   "display_name": "Python 3",
   "language": "python",
   "name": "python3"
  },
  "language_info": {
   "codemirror_mode": {
    "name": "ipython",
    "version": 3
   },
   "file_extension": ".py",
   "mimetype": "text/x-python",
   "name": "python",
   "nbconvert_exporter": "python",
   "pygments_lexer": "ipython3",
   "version": "3.7.9"
  }
 },
 "nbformat": 4,
 "nbformat_minor": 4
}
